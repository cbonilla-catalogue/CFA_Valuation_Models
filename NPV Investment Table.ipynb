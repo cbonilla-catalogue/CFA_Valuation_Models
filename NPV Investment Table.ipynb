{
 "cells": [
  {
   "cell_type": "markdown",
   "metadata": {},
   "source": [
    "@author: Carlos Bonilla | email: carlos.abel.bonilla@gmail.com \n",
    "@linkedIn: https://www.linkedin.com/in/carlosbonilla1/\n",
    "\"\"\"\n",
    "\n",
    "To-do Notes:\n",
    "Function has a chain assignment warning; I still need to find how to prevent that potential error."
   ]
  },
  {
   "cell_type": "code",
   "execution_count": 55,
   "metadata": {},
   "outputs": [],
   "source": [
    "def investment_pv_table(periods,equipment_and_installation_cost,inventory_investment,operating_cash_flows,\n",
    "                                       depreciation_period=0,discount_curve=0,marginal_tax_rate=0,\n",
    "                                       equipment_salvage_value= 0, day_count = 1, interpolate_discount_curve = False):\n",
    "    #day_count is meant to proxy the length of the \"period\" the cash flow is received in \n",
    "    # If interpolate_discount_curve is true then will use provided discount rates to interpolate a log curve\n",
    "    \n",
    "    #Package dependencies\n",
    "    import pandas as pd\n",
    "\n",
    "    #Create a dataframe to hold and calclate the relevant data/factors\n",
    "    df = pd.DataFrame(list(range(periods+1)), columns = [\"Period\"]) \n",
    "    \n",
    "    df['Net_investment_outlay'] = 0\n",
    "    df['Net_investment_outlay'].iloc[0] = -inventory_investment-equipment_and_installation_cost\n",
    "    \n",
    "    df['Depreciation_Expense'] = equipment_and_installation_cost/depreciation_period\n",
    "    df['Interest_Expense'] = (operating_cash_flows-df['Depreciation_Expense'])*marginal_tax_rate\n",
    "    df['After_Tax_Operating_Cash_Flow'] = operating_cash_flows-df['Interest_Expense']#+df['Depreciation_Expense']\n",
    "    \n",
    "    df['After_Tax_Operating_Cash_Flow'].iloc[0]=0\n",
    "    df['Depreciation_Expense'].iloc[0]=0\n",
    "    \n",
    "    df['Project_Salvage_Cash_Flow'] = 0\n",
    "    df['Project_Salvage_Cash_Flow'].iloc[depreciation_period] = equipment_salvage_value+inventory_investment-(marginal_tax_rate*equipment_salvage_value) \n",
    "    df['Project_Cash_Flow'] = df['Net_investment_outlay']+df['After_Tax_Operating_Cash_Flow']+df['Project_Salvage_Cash_Flow']\n",
    "    \n",
    "    if interpolate_discount_curve == True:\n",
    "        import numpy as np\n",
    "        df['Discount_Rate'] = np.geomspace(discount_curve[0], discount_curve[1], num=len(cash_flows))\n",
    "    else: df['Discount_Rate'] = discount_curve\n",
    "\n",
    "    #Calculate discount factors\n",
    "    df['Discount_Factor'] = 1/((1+df['Discount_Rate'])**(df['Period']*day_count))\n",
    "\n",
    "    #Can loop through the periods and calculate each PV or multiple the cash flow by the discount factor\n",
    "    df['Project_Cash_Flow_PV']= df['Project_Cash_Flow'] * df['Discount_Factor']\n",
    "    \n",
    "    #Economic income is the cash flow plus the change in value, or economic income is the cash flow minus the economic depreciation\n",
    "    #df['Economic_Income'] = df['PV'].iloc[::-1]-df['Project_Cash_Flow']\n",
    "\n",
    "    #Return a pandas dataframe \n",
    "    return df"
   ]
  },
  {
   "cell_type": "code",
   "execution_count": 56,
   "metadata": {},
   "outputs": [
    {
     "name": "stderr",
     "output_type": "stream",
     "text": [
      "C:\\Users\\Carlos Bonilla\\Anaconda3\\lib\\site-packages\\pandas\\core\\indexing.py:179: SettingWithCopyWarning: \n",
      "A value is trying to be set on a copy of a slice from a DataFrame\n",
      "\n",
      "See the caveats in the documentation: http://pandas.pydata.org/pandas-docs/stable/indexing.html#indexing-view-versus-copy\n",
      "  self._setitem_with_indexer(indexer, value)\n"
     ]
    },
    {
     "data": {
      "text/html": [
       "<div>\n",
       "<style>\n",
       "    .dataframe thead tr:only-child th {\n",
       "        text-align: right;\n",
       "    }\n",
       "\n",
       "    .dataframe thead th {\n",
       "        text-align: left;\n",
       "    }\n",
       "\n",
       "    .dataframe tbody tr th {\n",
       "        vertical-align: top;\n",
       "    }\n",
       "</style>\n",
       "<table border=\"1\" class=\"dataframe\">\n",
       "  <thead>\n",
       "    <tr style=\"text-align: right;\">\n",
       "      <th></th>\n",
       "      <th>Period</th>\n",
       "      <th>Net_investment_outlay</th>\n",
       "      <th>Depreciation_Expense</th>\n",
       "      <th>Interest_Expense</th>\n",
       "      <th>After_Tax_Operating_Cash_Flow</th>\n",
       "      <th>Project_Salvage_Cash_Flow</th>\n",
       "      <th>Project_Cash_Flow</th>\n",
       "      <th>Discount_Rate</th>\n",
       "      <th>Discount_Factor</th>\n",
       "      <th>Project_Cash_Flow_PV</th>\n",
       "    </tr>\n",
       "  </thead>\n",
       "  <tbody>\n",
       "    <tr>\n",
       "      <th>0</th>\n",
       "      <td>0</td>\n",
       "      <td>-100</td>\n",
       "      <td>0.0</td>\n",
       "      <td>15.0</td>\n",
       "      <td>0.0</td>\n",
       "      <td>0.0</td>\n",
       "      <td>-100.0</td>\n",
       "      <td>0.12</td>\n",
       "      <td>1.000000</td>\n",
       "      <td>-100.000000</td>\n",
       "    </tr>\n",
       "    <tr>\n",
       "      <th>1</th>\n",
       "      <td>1</td>\n",
       "      <td>0</td>\n",
       "      <td>50.0</td>\n",
       "      <td>15.0</td>\n",
       "      <td>85.0</td>\n",
       "      <td>0.0</td>\n",
       "      <td>85.0</td>\n",
       "      <td>0.12</td>\n",
       "      <td>0.892857</td>\n",
       "      <td>75.892857</td>\n",
       "    </tr>\n",
       "    <tr>\n",
       "      <th>2</th>\n",
       "      <td>2</td>\n",
       "      <td>0</td>\n",
       "      <td>50.0</td>\n",
       "      <td>15.0</td>\n",
       "      <td>85.0</td>\n",
       "      <td>0.0</td>\n",
       "      <td>85.0</td>\n",
       "      <td>0.12</td>\n",
       "      <td>0.797194</td>\n",
       "      <td>67.761480</td>\n",
       "    </tr>\n",
       "  </tbody>\n",
       "</table>\n",
       "</div>"
      ],
      "text/plain": [
       "   Period  Net_investment_outlay  Depreciation_Expense  Interest_Expense  \\\n",
       "0       0                   -100                   0.0              15.0   \n",
       "1       1                      0                  50.0              15.0   \n",
       "2       2                      0                  50.0              15.0   \n",
       "\n",
       "   After_Tax_Operating_Cash_Flow  Project_Salvage_Cash_Flow  \\\n",
       "0                            0.0                        0.0   \n",
       "1                           85.0                        0.0   \n",
       "2                           85.0                        0.0   \n",
       "\n",
       "   Project_Cash_Flow  Discount_Rate  Discount_Factor  Project_Cash_Flow_PV  \n",
       "0             -100.0           0.12         1.000000           -100.000000  \n",
       "1               85.0           0.12         0.892857             75.892857  \n",
       "2               85.0           0.12         0.797194             67.761480  "
      ]
     },
     "execution_count": 56,
     "metadata": {},
     "output_type": "execute_result"
    }
   ],
   "source": [
    "investment_pv_table(periods=2,equipment_and_installation_cost=100,inventory_investment=0,operating_cash_flows=50+50,\n",
    "                    depreciation_period=2,discount_curve=.12,marginal_tax_rate=.3,equipment_salvage_value=0)"
   ]
  },
  {
   "cell_type": "code",
   "execution_count": 58,
   "metadata": {},
   "outputs": [
    {
     "name": "stderr",
     "output_type": "stream",
     "text": [
      "C:\\Users\\Carlos Bonilla\\Anaconda3\\lib\\site-packages\\pandas\\core\\indexing.py:179: SettingWithCopyWarning: \n",
      "A value is trying to be set on a copy of a slice from a DataFrame\n",
      "\n",
      "See the caveats in the documentation: http://pandas.pydata.org/pandas-docs/stable/indexing.html#indexing-view-versus-copy\n",
      "  self._setitem_with_indexer(indexer, value)\n"
     ]
    },
    {
     "data": {
      "text/plain": [
       "43.65433673469387"
      ]
     },
     "execution_count": 58,
     "metadata": {},
     "output_type": "execute_result"
    }
   ],
   "source": [
    "npv = investment_pv_table(periods=2,equipment_and_installation_cost=100,inventory_investment=0,operating_cash_flows=50+50,\n",
    "                    depreciation_period=2,discount_curve=.12,marginal_tax_rate=.3,equipment_salvage_value=0)['Project_Cash_Flow_PV'].sum()\n",
    "npv"
   ]
  }
 ],
 "metadata": {
  "kernelspec": {
   "display_name": "Python 3",
   "language": "python",
   "name": "python3"
  },
  "language_info": {
   "codemirror_mode": {
    "name": "ipython",
    "version": 3
   },
   "file_extension": ".py",
   "mimetype": "text/x-python",
   "name": "python",
   "nbconvert_exporter": "python",
   "pygments_lexer": "ipython3",
   "version": "3.6.8"
  }
 },
 "nbformat": 4,
 "nbformat_minor": 2
}
